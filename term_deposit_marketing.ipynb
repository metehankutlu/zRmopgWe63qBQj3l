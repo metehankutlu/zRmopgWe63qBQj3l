{
 "cells": [
  {
   "cell_type": "code",
   "execution_count": 1,
   "metadata": {
    "_cell_guid": "b1076dfc-b9ad-4769-8c92-a6c4dae69d19",
    "_uuid": "8f2839f25d086af736a60e9eeb907d3b93b6e0e5"
   },
   "outputs": [],
   "source": [
    "import numpy as np # linear algebra\n",
    "import pandas as pd # data processing, CSV file I/O (e.g. pd.read_csv)\n",
    "from sklearn.preprocessing import MinMaxScaler, LabelEncoder, OneHotEncoder\n",
    "from sklearn.ensemble import IsolationForest\n",
    "from sklearn.ensemble import RandomForestClassifier\n",
    "from sklearn.metrics import f1_score, log_loss, accuracy_score, precision_score, recall_score, jaccard_score, roc_auc_score\n",
    "from sklearn.model_selection import KFold"
   ]
  },
  {
   "cell_type": "code",
   "execution_count": 3,
   "metadata": {
    "_cell_guid": "79c7e3d0-c299-4dcb-8224-4455121ee9b0",
    "_uuid": "d629ff2d2480ee46fbb7e2d37f6b5fab8052498a"
   },
   "outputs": [],
   "source": [
    "data = pd.read_csv('term-deposit-marketing-2020.csv')"
   ]
  },
  {
   "cell_type": "markdown",
   "metadata": {},
   "source": [
    "## Preprocessing\n",
    "\n",
    "* label encoding\n",
    "* one hot encoding\n",
    "* scaling"
   ]
  },
  {
   "cell_type": "code",
   "execution_count": 4,
   "metadata": {},
   "outputs": [],
   "source": [
    "x = data[['age', 'job', 'marital', 'education', 'default', 'balance', 'housing', 'loan', 'contact', 'day', 'month', 'duration', 'campaign']]\n",
    "y = data[['y']]\n",
    "\n",
    "le = LabelEncoder()\n",
    "mms = MinMaxScaler()\n",
    "ohe = OneHotEncoder()\n",
    "\n",
    "y_enc = le.fit_transform(y.values.ravel())\n",
    "\n",
    "numeric_features = x.select_dtypes(include=['int64', 'float64']).columns\n",
    "categorical_features = x.select_dtypes(include=['object']).columns\n",
    "\n",
    "x_num = x[numeric_features]\n",
    "x_cat = x[categorical_features]\n",
    "x_num_scaled = mms.fit_transform(x_num)\n",
    "x_cat_encoded = ohe.fit_transform(x_cat)\n",
    "\n",
    "categporic_df = pd.DataFrame(data=x_cat_encoded.toarray(), columns=ohe.get_feature_names())\n",
    "numeric_df = pd.DataFrame(data=x_num_scaled, columns=numeric_features)\n",
    "\n",
    "x_enc = pd.concat((categporic_df, numeric_df), axis=1)"
   ]
  },
  {
   "cell_type": "markdown",
   "metadata": {},
   "source": [
    "## Outlier detection with Isolation Forest"
   ]
  },
  {
   "cell_type": "code",
   "execution_count": 5,
   "metadata": {},
   "outputs": [],
   "source": [
    "from sklearn.ensemble import IsolationForest\n",
    "def iso_transformer(x, y):\n",
    "    iso = IsolationForest(contamination=0.1)\n",
    "    yhat = iso.fit_predict(x)\n",
    "    mask = yhat != -1\n",
    "    x_masked, y_masked = x[mask, :], y[mask]\n",
    "    return x_masked, y_masked\n",
    "\n",
    "x_final, y_final = iso_transformer(x_enc.values, y_enc)"
   ]
  },
  {
   "cell_type": "markdown",
   "metadata": {},
   "source": [
    "## Training"
   ]
  },
  {
   "cell_type": "code",
   "execution_count": 6,
   "metadata": {},
   "outputs": [
    {
     "data": {
      "text/html": [
       "<div>\n",
       "<style scoped>\n",
       "    .dataframe tbody tr th:only-of-type {\n",
       "        vertical-align: middle;\n",
       "    }\n",
       "\n",
       "    .dataframe tbody tr th {\n",
       "        vertical-align: top;\n",
       "    }\n",
       "\n",
       "    .dataframe thead th {\n",
       "        text-align: right;\n",
       "    }\n",
       "</style>\n",
       "<table border=\"1\" class=\"dataframe\">\n",
       "  <thead>\n",
       "    <tr style=\"text-align: right;\">\n",
       "      <th></th>\n",
       "      <th>k</th>\n",
       "      <th>training accuracy</th>\n",
       "      <th>test accuracy</th>\n",
       "    </tr>\n",
       "  </thead>\n",
       "  <tbody>\n",
       "    <tr>\n",
       "      <th>0</th>\n",
       "      <td>1</td>\n",
       "      <td>0.999965</td>\n",
       "      <td>0.939306</td>\n",
       "    </tr>\n",
       "    <tr>\n",
       "      <th>1</th>\n",
       "      <td>2</td>\n",
       "      <td>1.000000</td>\n",
       "      <td>0.937917</td>\n",
       "    </tr>\n",
       "    <tr>\n",
       "      <th>2</th>\n",
       "      <td>3</td>\n",
       "      <td>1.000000</td>\n",
       "      <td>0.935556</td>\n",
       "    </tr>\n",
       "    <tr>\n",
       "      <th>3</th>\n",
       "      <td>4</td>\n",
       "      <td>0.999965</td>\n",
       "      <td>0.940278</td>\n",
       "    </tr>\n",
       "    <tr>\n",
       "      <th>4</th>\n",
       "      <td>5</td>\n",
       "      <td>1.000000</td>\n",
       "      <td>0.939167</td>\n",
       "    </tr>\n",
       "  </tbody>\n",
       "</table>\n",
       "</div>"
      ],
      "text/plain": [
       "   k  training accuracy  test accuracy\n",
       "0  1           0.999965       0.939306\n",
       "1  2           1.000000       0.937917\n",
       "2  3           1.000000       0.935556\n",
       "3  4           0.999965       0.940278\n",
       "4  5           1.000000       0.939167"
      ]
     },
     "execution_count": 6,
     "metadata": {},
     "output_type": "execute_result"
    }
   ],
   "source": [
    "classifier = RandomForestClassifier()\n",
    "\n",
    "eval_scores = []\n",
    "feature_importances = []\n",
    "k = 0\n",
    "\n",
    "kf = KFold(n_splits=5, random_state=42, shuffle=True)\n",
    "for train_index, test_index in kf.split(x_final):\n",
    "    try:\n",
    "        X_train, X_test = x_final[train_index], x_final[test_index]\n",
    "        y_train, y_test = y_final[train_index], y_final[test_index]\n",
    "        model = classifier.fit(X_train, y_train)\n",
    "        k += 1\n",
    "        eval_scores.append([k, model.score(X_train, y_train), model.score(X_test, y_test)])\n",
    "        feature_importances.append(model.feature_importances_)\n",
    "    except Exception as e:\n",
    "        print(e)\n",
    "eval_df = pd.DataFrame(data=eval_scores, columns=['k', 'training accuracy', 'test accuracy'])\n",
    "eval_df.set_index('k')\n",
    "eval_df"
   ]
  },
  {
   "cell_type": "markdown",
   "metadata": {},
   "source": [
    "## Feature Importances\n",
    "\n",
    "As seen below; duration, balance, age, day and campaign are the most important features that determine if the client is subscribed to a term deposit."
   ]
  },
  {
   "cell_type": "code",
   "execution_count": 8,
   "metadata": {},
   "outputs": [
    {
     "data": {
      "image/png": "[encoded data removed]",
      "text/plain": [
       "<Figure size 720x720 with 1 Axes>"
      ]
     },
     "metadata": {
      "needs_background": "light"
     },
     "output_type": "display_data"
    }
   ],
   "source": [
    "import matplotlib.pyplot as plt\n",
    "\n",
    "importances = np.array(feature_importances).mean(axis=0)\n",
    "indices = np.argsort(importances)[::-1]\n",
    "\n",
    "plt.figure(figsize=(10, 10))\n",
    "plt.title(\"Feature importances\")\n",
    "plt.bar(x_enc.columns[indices][:20], importances[indices][:20])\n",
    "plt.xticks(range(20), x_enc.columns[indices][:20], rotation=90)\n",
    "plt.xlim([-1, 20])\n",
    "plt.show()"
   ]
  },
  {
   "cell_type": "code",
   "execution_count": null,
   "metadata": {},
   "outputs": [],
   "source": []
  }
 ],
 "metadata": {
  "kernelspec": {
   "display_name": "Python 3",
   "language": "python",
   "name": "python3"
  },
  "language_info": {
   "codemirror_mode": {
    "name": "ipython",
    "version": 3
   },
   "file_extension": ".py",
   "mimetype": "text/x-python",
   "name": "python",
   "nbconvert_exporter": "python",
   "pygments_lexer": "ipython3",
   "version": "3.7.3"
  }
 },
 "nbformat": 4,
 "nbformat_minor": 4
}
